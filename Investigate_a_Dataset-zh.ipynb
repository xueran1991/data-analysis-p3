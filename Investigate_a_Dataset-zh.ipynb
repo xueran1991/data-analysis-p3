{
 "cells": [
  {
   "cell_type": "markdown",
   "metadata": {},
   "source": [
    "# 项目：欧洲顶级足球联赛冠军竞争程度分析\n",
    "\n",
    "## 目录\n",
    "<ul>\n",
    "<li><a href=\"#intro\">简介</a></li>\n",
    "<li><a href=\"#wrangling\">数据整理</a></li>\n",
    "<li><a href=\"#eda\">探索性数据分析</a></li>\n",
    "<li><a href=\"#conclusions\">结论</a></li>\n",
    "</ul>\n",
    "\n",
    "<a id='intro'></a>\n",
    "## 简介\n",
    "[数据源自kaggle，点击此链接获取kaggle上对此数据的详细解释。](https://www.kaggle.com/hugomathien/soccer) 数据集中的信息包含欧洲11个国家的顶级联赛在2008到2016赛季中的球队、球员和比赛信息。本报告将利用这些信息分析这些联赛中球队的表现，以及联赛中球队的竞争激烈程度。\n"
   ]
  },
  {
   "cell_type": "code",
   "execution_count": 1,
   "metadata": {},
   "outputs": [],
   "source": [
    "import csv\n",
    "import numpy as np\n",
    "import pandas as pd\n",
    "import matplotlib.pyplot as plt\n",
    "import sqlite3\n",
    "% matplotlib inline"
   ]
  },
  {
   "cell_type": "markdown",
   "metadata": {},
   "source": [
    "<a id='wrangling'></a>\n",
    "## 数据整理\n",
    "\n",
    "### 常规属性\n",
    "首先与数据库建立连接。"
   ]
  },
  {
   "cell_type": "code",
   "execution_count": 2,
   "metadata": {},
   "outputs": [
    {
     "data": {
      "text/html": [
       "<div>\n",
       "<style scoped>\n",
       "    .dataframe tbody tr th:only-of-type {\n",
       "        vertical-align: middle;\n",
       "    }\n",
       "\n",
       "    .dataframe tbody tr th {\n",
       "        vertical-align: top;\n",
       "    }\n",
       "\n",
       "    .dataframe thead th {\n",
       "        text-align: right;\n",
       "    }\n",
       "</style>\n",
       "<table border=\"1\" class=\"dataframe\">\n",
       "  <thead>\n",
       "    <tr style=\"text-align: right;\">\n",
       "      <th></th>\n",
       "      <th>type</th>\n",
       "      <th>name</th>\n",
       "      <th>tbl_name</th>\n",
       "      <th>rootpage</th>\n",
       "      <th>sql</th>\n",
       "    </tr>\n",
       "  </thead>\n",
       "  <tbody>\n",
       "    <tr>\n",
       "      <th>0</th>\n",
       "      <td>table</td>\n",
       "      <td>Country</td>\n",
       "      <td>Country</td>\n",
       "      <td>26</td>\n",
       "      <td>CREATE TABLE `Country` (\\n\\t`id`\\tINTEGER PRIM...</td>\n",
       "    </tr>\n",
       "    <tr>\n",
       "      <th>1</th>\n",
       "      <td>table</td>\n",
       "      <td>League</td>\n",
       "      <td>League</td>\n",
       "      <td>24</td>\n",
       "      <td>CREATE TABLE `League` (\\n\\t`id`\\tINTEGER PRIMA...</td>\n",
       "    </tr>\n",
       "    <tr>\n",
       "      <th>2</th>\n",
       "      <td>table</td>\n",
       "      <td>Match</td>\n",
       "      <td>Match</td>\n",
       "      <td>18</td>\n",
       "      <td>CREATE TABLE `Match` (\\n\\t`id`\\tINTEGER PRIMAR...</td>\n",
       "    </tr>\n",
       "    <tr>\n",
       "      <th>3</th>\n",
       "      <td>table</td>\n",
       "      <td>Player</td>\n",
       "      <td>Player</td>\n",
       "      <td>14</td>\n",
       "      <td>CREATE TABLE `Player` (\\n\\t`id`\\tINTEGER PRIMA...</td>\n",
       "    </tr>\n",
       "    <tr>\n",
       "      <th>4</th>\n",
       "      <td>table</td>\n",
       "      <td>Player_Attributes</td>\n",
       "      <td>Player_Attributes</td>\n",
       "      <td>11</td>\n",
       "      <td>CREATE TABLE \"Player_Attributes\" (\\n\\t`id`\\tIN...</td>\n",
       "    </tr>\n",
       "    <tr>\n",
       "      <th>5</th>\n",
       "      <td>table</td>\n",
       "      <td>Team</td>\n",
       "      <td>Team</td>\n",
       "      <td>29</td>\n",
       "      <td>CREATE TABLE \"Team\" (\\n\\t`id`\\tINTEGER PRIMARY...</td>\n",
       "    </tr>\n",
       "    <tr>\n",
       "      <th>6</th>\n",
       "      <td>table</td>\n",
       "      <td>Team_Attributes</td>\n",
       "      <td>Team_Attributes</td>\n",
       "      <td>2</td>\n",
       "      <td>CREATE TABLE `Team_Attributes` (\\n\\t`id`\\tINTE...</td>\n",
       "    </tr>\n",
       "    <tr>\n",
       "      <th>7</th>\n",
       "      <td>table</td>\n",
       "      <td>sqlite_sequence</td>\n",
       "      <td>sqlite_sequence</td>\n",
       "      <td>4</td>\n",
       "      <td>CREATE TABLE sqlite_sequence(name,seq)</td>\n",
       "    </tr>\n",
       "  </tbody>\n",
       "</table>\n",
       "</div>"
      ],
      "text/plain": [
       "    type               name           tbl_name  rootpage  \\\n",
       "0  table            Country            Country        26   \n",
       "1  table             League             League        24   \n",
       "2  table              Match              Match        18   \n",
       "3  table             Player             Player        14   \n",
       "4  table  Player_Attributes  Player_Attributes        11   \n",
       "5  table               Team               Team        29   \n",
       "6  table    Team_Attributes    Team_Attributes         2   \n",
       "7  table    sqlite_sequence    sqlite_sequence         4   \n",
       "\n",
       "                                                 sql  \n",
       "0  CREATE TABLE `Country` (\\n\\t`id`\\tINTEGER PRIM...  \n",
       "1  CREATE TABLE `League` (\\n\\t`id`\\tINTEGER PRIMA...  \n",
       "2  CREATE TABLE `Match` (\\n\\t`id`\\tINTEGER PRIMAR...  \n",
       "3  CREATE TABLE `Player` (\\n\\t`id`\\tINTEGER PRIMA...  \n",
       "4  CREATE TABLE \"Player_Attributes\" (\\n\\t`id`\\tIN...  \n",
       "5  CREATE TABLE \"Team\" (\\n\\t`id`\\tINTEGER PRIMARY...  \n",
       "6  CREATE TABLE `Team_Attributes` (\\n\\t`id`\\tINTE...  \n",
       "7             CREATE TABLE sqlite_sequence(name,seq)  "
      ]
     },
     "execution_count": 2,
     "metadata": {},
     "output_type": "execute_result"
    }
   ],
   "source": [
    "# 查看数据库中有哪些表\n",
    "con = sqlite3.connect('database.sqlite')\n",
    "sql = 'SELECT * FROM sqlite_master WHERE type=\"table\" ORDER BY name '\n",
    "tabs = pd.read_sql_query(sql,con)\n",
    "tabs"
   ]
  },
  {
   "cell_type": "markdown",
   "metadata": {},
   "source": [
    "数据库中总共有8个表，包含国家、联赛、比赛、球员、球队等数据。"
   ]
  },
  {
   "cell_type": "code",
   "execution_count": 3,
   "metadata": {},
   "outputs": [
    {
     "data": {
      "text/html": [
       "<div>\n",
       "<style scoped>\n",
       "    .dataframe tbody tr th:only-of-type {\n",
       "        vertical-align: middle;\n",
       "    }\n",
       "\n",
       "    .dataframe tbody tr th {\n",
       "        vertical-align: top;\n",
       "    }\n",
       "\n",
       "    .dataframe thead th {\n",
       "        text-align: right;\n",
       "    }\n",
       "</style>\n",
       "<table border=\"1\" class=\"dataframe\">\n",
       "  <thead>\n",
       "    <tr style=\"text-align: right;\">\n",
       "      <th></th>\n",
       "      <th>id</th>\n",
       "      <th>country_id</th>\n",
       "      <th>name</th>\n",
       "    </tr>\n",
       "  </thead>\n",
       "  <tbody>\n",
       "    <tr>\n",
       "      <th>0</th>\n",
       "      <td>1</td>\n",
       "      <td>1</td>\n",
       "      <td>Belgium Jupiler League</td>\n",
       "    </tr>\n",
       "    <tr>\n",
       "      <th>1</th>\n",
       "      <td>1729</td>\n",
       "      <td>1729</td>\n",
       "      <td>England Premier League</td>\n",
       "    </tr>\n",
       "    <tr>\n",
       "      <th>2</th>\n",
       "      <td>4769</td>\n",
       "      <td>4769</td>\n",
       "      <td>France Ligue 1</td>\n",
       "    </tr>\n",
       "    <tr>\n",
       "      <th>3</th>\n",
       "      <td>7809</td>\n",
       "      <td>7809</td>\n",
       "      <td>Germany 1. Bundesliga</td>\n",
       "    </tr>\n",
       "    <tr>\n",
       "      <th>4</th>\n",
       "      <td>10257</td>\n",
       "      <td>10257</td>\n",
       "      <td>Italy Serie A</td>\n",
       "    </tr>\n",
       "    <tr>\n",
       "      <th>5</th>\n",
       "      <td>13274</td>\n",
       "      <td>13274</td>\n",
       "      <td>Netherlands Eredivisie</td>\n",
       "    </tr>\n",
       "    <tr>\n",
       "      <th>6</th>\n",
       "      <td>15722</td>\n",
       "      <td>15722</td>\n",
       "      <td>Poland Ekstraklasa</td>\n",
       "    </tr>\n",
       "    <tr>\n",
       "      <th>7</th>\n",
       "      <td>17642</td>\n",
       "      <td>17642</td>\n",
       "      <td>Portugal Liga ZON Sagres</td>\n",
       "    </tr>\n",
       "    <tr>\n",
       "      <th>8</th>\n",
       "      <td>19694</td>\n",
       "      <td>19694</td>\n",
       "      <td>Scotland Premier League</td>\n",
       "    </tr>\n",
       "    <tr>\n",
       "      <th>9</th>\n",
       "      <td>21518</td>\n",
       "      <td>21518</td>\n",
       "      <td>Spain LIGA BBVA</td>\n",
       "    </tr>\n",
       "    <tr>\n",
       "      <th>10</th>\n",
       "      <td>24558</td>\n",
       "      <td>24558</td>\n",
       "      <td>Switzerland Super League</td>\n",
       "    </tr>\n",
       "  </tbody>\n",
       "</table>\n",
       "</div>"
      ],
      "text/plain": [
       "       id  country_id                      name\n",
       "0       1           1    Belgium Jupiler League\n",
       "1    1729        1729    England Premier League\n",
       "2    4769        4769            France Ligue 1\n",
       "3    7809        7809     Germany 1. Bundesliga\n",
       "4   10257       10257             Italy Serie A\n",
       "5   13274       13274    Netherlands Eredivisie\n",
       "6   15722       15722        Poland Ekstraklasa\n",
       "7   17642       17642  Portugal Liga ZON Sagres\n",
       "8   19694       19694   Scotland Premier League\n",
       "9   21518       21518           Spain LIGA BBVA\n",
       "10  24558       24558  Switzerland Super League"
      ]
     },
     "execution_count": 3,
     "metadata": {},
     "output_type": "execute_result"
    }
   ],
   "source": [
    "#查看联赛表的数据\n",
    "sql = 'SELECT * FROM League'\n",
    "df_league = pd.read_sql_query(sql,con) \n",
    "df_league"
   ]
  },
  {
   "cell_type": "code",
   "execution_count": 4,
   "metadata": {},
   "outputs": [
    {
     "name": "stdout",
     "output_type": "stream",
     "text": [
      "(25979, 115)\n"
     ]
    }
   ],
   "source": [
    "# 查看Match表的大小\n",
    "sql = 'SELECT * FROM Match'\n",
    "df_match = pd.read_sql_query(sql,con) \n",
    "print(df_match.shape)"
   ]
  },
  {
   "cell_type": "markdown",
   "metadata": {},
   "source": [
    "## 数据完整度"
   ]
  },
  {
   "cell_type": "code",
   "execution_count": 5,
   "metadata": {},
   "outputs": [
    {
     "name": "stdout",
     "output_type": "stream",
     "text": [
      "0\n",
      "24217\n"
     ]
    }
   ],
   "source": [
    "print(sum(df_match.duplicated()))\n",
    "print(sum(df_match.isnull().sum(axis=1)>0))"
   ]
  },
  {
   "cell_type": "markdown",
   "metadata": {},
   "source": [
    "在Match表的25979行中，有24217行存在数据缺失，我们需要确定缺失的数据主要出现在哪些列中。"
   ]
  },
  {
   "cell_type": "code",
   "execution_count": 6,
   "metadata": {},
   "outputs": [
    {
     "data": {
      "text/plain": [
       "id                  25979\n",
       "country_id          25979\n",
       "league_id           25979\n",
       "season              25979\n",
       "stage               25979\n",
       "date                25979\n",
       "match_api_id        25979\n",
       "home_team_api_id    25979\n",
       "away_team_api_id    25979\n",
       "home_team_goal      25979\n",
       "away_team_goal      25979\n",
       "home_player_X1      24158\n",
       "home_player_X2      24158\n",
       "home_player_X3      24147\n",
       "home_player_X4      24147\n",
       "home_player_X5      24147\n",
       "home_player_X6      24147\n",
       "home_player_X7      24147\n",
       "home_player_X8      24147\n",
       "home_player_X9      24147\n",
       "home_player_X10     24147\n",
       "home_player_X11     24147\n",
       "away_player_X1      24147\n",
       "away_player_X2      24147\n",
       "away_player_X3      24147\n",
       "away_player_X4      24147\n",
       "away_player_X5      24147\n",
       "away_player_X6      24147\n",
       "away_player_X7      24147\n",
       "away_player_X8      24147\n",
       "                    ...  \n",
       "B365H               22592\n",
       "B365D               22592\n",
       "B365A               22592\n",
       "BWH                 22575\n",
       "BWD                 22575\n",
       "BWA                 22575\n",
       "IWH                 22520\n",
       "IWD                 22520\n",
       "IWA                 22520\n",
       "LBH                 22556\n",
       "LBD                 22556\n",
       "LBA                 22556\n",
       "PSH                 11168\n",
       "PSD                 11168\n",
       "PSA                 11168\n",
       "WHH                 22571\n",
       "WHD                 22571\n",
       "WHA                 22571\n",
       "SJH                 17097\n",
       "SJD                 17097\n",
       "SJA                 17097\n",
       "VCH                 22568\n",
       "VCD                 22568\n",
       "VCA                 22568\n",
       "GBH                 14162\n",
       "GBD                 14162\n",
       "GBA                 14162\n",
       "BSH                 14161\n",
       "BSD                 14161\n",
       "BSA                 14161\n",
       "Length: 115, dtype: int64"
      ]
     },
     "execution_count": 6,
     "metadata": {},
     "output_type": "execute_result"
    }
   ],
   "source": [
    "df_match.count()"
   ]
  },
  {
   "cell_type": "markdown",
   "metadata": {},
   "source": [
    "'Match'表中缺失的数据主要集中在球员位置信息和博彩公司数据中，前11行与比赛结果相关的数据不存在缺失情况。"
   ]
  },
  {
   "cell_type": "markdown",
   "metadata": {},
   "source": [
    "### 获取各只队伍比赛积分数据"
   ]
  },
  {
   "cell_type": "markdown",
   "metadata": {},
   "source": [
    "#### 在足球的联赛中，比赛积分是衡量球队表现的主要指标，每个赛季结束后，大部分联赛中积分最高的球队获得其所在联赛的相应赛季冠军。但也有少数联赛采用季后赛淘汰制选拔冠军球队。这里我们取公认的五大联作为研究对象，即英格兰超级联赛、德国足球甲级联赛、西班牙足球甲级联赛、法国足球甲级联赛、意大利足球甲级联赛（简称英超、德甲、西甲、法甲、意甲）。'Match'表中没有比赛的积分数据，因此在下面需要通过主、客队的比赛进球数来获取比赛积分数据。\n",
    "\n",
    "需要先验证联赛内比赛数据的完整性，欧洲五大联赛比赛都是每支队伍和联赛内其余队伍在主、客场各进行一次比赛，除了德甲有18支队伍外，其它4个联赛都有20支队伍，比赛总场次分别是：17x18=306,19x20=380。"
   ]
  },
  {
   "cell_type": "code",
   "execution_count": 7,
   "metadata": {},
   "outputs": [
    {
     "data": {
      "text/html": [
       "<div>\n",
       "<style scoped>\n",
       "    .dataframe tbody tr th:only-of-type {\n",
       "        vertical-align: middle;\n",
       "    }\n",
       "\n",
       "    .dataframe tbody tr th {\n",
       "        vertical-align: top;\n",
       "    }\n",
       "\n",
       "    .dataframe thead th {\n",
       "        text-align: right;\n",
       "    }\n",
       "</style>\n",
       "<table border=\"1\" class=\"dataframe\">\n",
       "  <thead>\n",
       "    <tr style=\"text-align: right;\">\n",
       "      <th></th>\n",
       "      <th>league</th>\n",
       "      <th>season</th>\n",
       "      <th>total_matchs</th>\n",
       "    </tr>\n",
       "  </thead>\n",
       "  <tbody>\n",
       "    <tr>\n",
       "      <th>0</th>\n",
       "      <td>England Premier League</td>\n",
       "      <td>2008/2009</td>\n",
       "      <td>380</td>\n",
       "    </tr>\n",
       "    <tr>\n",
       "      <th>1</th>\n",
       "      <td>England Premier League</td>\n",
       "      <td>2009/2010</td>\n",
       "      <td>380</td>\n",
       "    </tr>\n",
       "    <tr>\n",
       "      <th>2</th>\n",
       "      <td>England Premier League</td>\n",
       "      <td>2010/2011</td>\n",
       "      <td>380</td>\n",
       "    </tr>\n",
       "    <tr>\n",
       "      <th>3</th>\n",
       "      <td>England Premier League</td>\n",
       "      <td>2011/2012</td>\n",
       "      <td>380</td>\n",
       "    </tr>\n",
       "    <tr>\n",
       "      <th>4</th>\n",
       "      <td>England Premier League</td>\n",
       "      <td>2012/2013</td>\n",
       "      <td>380</td>\n",
       "    </tr>\n",
       "    <tr>\n",
       "      <th>5</th>\n",
       "      <td>England Premier League</td>\n",
       "      <td>2013/2014</td>\n",
       "      <td>380</td>\n",
       "    </tr>\n",
       "    <tr>\n",
       "      <th>6</th>\n",
       "      <td>England Premier League</td>\n",
       "      <td>2014/2015</td>\n",
       "      <td>380</td>\n",
       "    </tr>\n",
       "    <tr>\n",
       "      <th>7</th>\n",
       "      <td>England Premier League</td>\n",
       "      <td>2015/2016</td>\n",
       "      <td>380</td>\n",
       "    </tr>\n",
       "    <tr>\n",
       "      <th>8</th>\n",
       "      <td>France Ligue 1</td>\n",
       "      <td>2008/2009</td>\n",
       "      <td>380</td>\n",
       "    </tr>\n",
       "    <tr>\n",
       "      <th>9</th>\n",
       "      <td>France Ligue 1</td>\n",
       "      <td>2009/2010</td>\n",
       "      <td>380</td>\n",
       "    </tr>\n",
       "    <tr>\n",
       "      <th>10</th>\n",
       "      <td>France Ligue 1</td>\n",
       "      <td>2010/2011</td>\n",
       "      <td>380</td>\n",
       "    </tr>\n",
       "    <tr>\n",
       "      <th>11</th>\n",
       "      <td>France Ligue 1</td>\n",
       "      <td>2011/2012</td>\n",
       "      <td>380</td>\n",
       "    </tr>\n",
       "    <tr>\n",
       "      <th>12</th>\n",
       "      <td>France Ligue 1</td>\n",
       "      <td>2012/2013</td>\n",
       "      <td>380</td>\n",
       "    </tr>\n",
       "    <tr>\n",
       "      <th>13</th>\n",
       "      <td>France Ligue 1</td>\n",
       "      <td>2013/2014</td>\n",
       "      <td>380</td>\n",
       "    </tr>\n",
       "    <tr>\n",
       "      <th>14</th>\n",
       "      <td>France Ligue 1</td>\n",
       "      <td>2014/2015</td>\n",
       "      <td>380</td>\n",
       "    </tr>\n",
       "    <tr>\n",
       "      <th>15</th>\n",
       "      <td>France Ligue 1</td>\n",
       "      <td>2015/2016</td>\n",
       "      <td>380</td>\n",
       "    </tr>\n",
       "    <tr>\n",
       "      <th>16</th>\n",
       "      <td>Germany 1. Bundesliga</td>\n",
       "      <td>2008/2009</td>\n",
       "      <td>306</td>\n",
       "    </tr>\n",
       "    <tr>\n",
       "      <th>17</th>\n",
       "      <td>Germany 1. Bundesliga</td>\n",
       "      <td>2009/2010</td>\n",
       "      <td>306</td>\n",
       "    </tr>\n",
       "    <tr>\n",
       "      <th>18</th>\n",
       "      <td>Germany 1. Bundesliga</td>\n",
       "      <td>2010/2011</td>\n",
       "      <td>306</td>\n",
       "    </tr>\n",
       "    <tr>\n",
       "      <th>19</th>\n",
       "      <td>Germany 1. Bundesliga</td>\n",
       "      <td>2011/2012</td>\n",
       "      <td>306</td>\n",
       "    </tr>\n",
       "    <tr>\n",
       "      <th>20</th>\n",
       "      <td>Germany 1. Bundesliga</td>\n",
       "      <td>2012/2013</td>\n",
       "      <td>306</td>\n",
       "    </tr>\n",
       "    <tr>\n",
       "      <th>21</th>\n",
       "      <td>Germany 1. Bundesliga</td>\n",
       "      <td>2013/2014</td>\n",
       "      <td>306</td>\n",
       "    </tr>\n",
       "    <tr>\n",
       "      <th>22</th>\n",
       "      <td>Germany 1. Bundesliga</td>\n",
       "      <td>2014/2015</td>\n",
       "      <td>306</td>\n",
       "    </tr>\n",
       "    <tr>\n",
       "      <th>23</th>\n",
       "      <td>Germany 1. Bundesliga</td>\n",
       "      <td>2015/2016</td>\n",
       "      <td>306</td>\n",
       "    </tr>\n",
       "    <tr>\n",
       "      <th>24</th>\n",
       "      <td>Italy Serie A</td>\n",
       "      <td>2008/2009</td>\n",
       "      <td>380</td>\n",
       "    </tr>\n",
       "    <tr>\n",
       "      <th>25</th>\n",
       "      <td>Italy Serie A</td>\n",
       "      <td>2009/2010</td>\n",
       "      <td>380</td>\n",
       "    </tr>\n",
       "    <tr>\n",
       "      <th>26</th>\n",
       "      <td>Italy Serie A</td>\n",
       "      <td>2010/2011</td>\n",
       "      <td>380</td>\n",
       "    </tr>\n",
       "    <tr>\n",
       "      <th>27</th>\n",
       "      <td>Italy Serie A</td>\n",
       "      <td>2011/2012</td>\n",
       "      <td>358</td>\n",
       "    </tr>\n",
       "    <tr>\n",
       "      <th>28</th>\n",
       "      <td>Italy Serie A</td>\n",
       "      <td>2012/2013</td>\n",
       "      <td>380</td>\n",
       "    </tr>\n",
       "    <tr>\n",
       "      <th>29</th>\n",
       "      <td>Italy Serie A</td>\n",
       "      <td>2013/2014</td>\n",
       "      <td>380</td>\n",
       "    </tr>\n",
       "    <tr>\n",
       "      <th>30</th>\n",
       "      <td>Italy Serie A</td>\n",
       "      <td>2014/2015</td>\n",
       "      <td>379</td>\n",
       "    </tr>\n",
       "    <tr>\n",
       "      <th>31</th>\n",
       "      <td>Italy Serie A</td>\n",
       "      <td>2015/2016</td>\n",
       "      <td>380</td>\n",
       "    </tr>\n",
       "    <tr>\n",
       "      <th>32</th>\n",
       "      <td>Spain LIGA BBVA</td>\n",
       "      <td>2008/2009</td>\n",
       "      <td>380</td>\n",
       "    </tr>\n",
       "    <tr>\n",
       "      <th>33</th>\n",
       "      <td>Spain LIGA BBVA</td>\n",
       "      <td>2009/2010</td>\n",
       "      <td>380</td>\n",
       "    </tr>\n",
       "    <tr>\n",
       "      <th>34</th>\n",
       "      <td>Spain LIGA BBVA</td>\n",
       "      <td>2010/2011</td>\n",
       "      <td>380</td>\n",
       "    </tr>\n",
       "    <tr>\n",
       "      <th>35</th>\n",
       "      <td>Spain LIGA BBVA</td>\n",
       "      <td>2011/2012</td>\n",
       "      <td>380</td>\n",
       "    </tr>\n",
       "    <tr>\n",
       "      <th>36</th>\n",
       "      <td>Spain LIGA BBVA</td>\n",
       "      <td>2012/2013</td>\n",
       "      <td>380</td>\n",
       "    </tr>\n",
       "    <tr>\n",
       "      <th>37</th>\n",
       "      <td>Spain LIGA BBVA</td>\n",
       "      <td>2013/2014</td>\n",
       "      <td>380</td>\n",
       "    </tr>\n",
       "    <tr>\n",
       "      <th>38</th>\n",
       "      <td>Spain LIGA BBVA</td>\n",
       "      <td>2014/2015</td>\n",
       "      <td>380</td>\n",
       "    </tr>\n",
       "    <tr>\n",
       "      <th>39</th>\n",
       "      <td>Spain LIGA BBVA</td>\n",
       "      <td>2015/2016</td>\n",
       "      <td>380</td>\n",
       "    </tr>\n",
       "  </tbody>\n",
       "</table>\n",
       "</div>"
      ],
      "text/plain": [
       "                    league     season  total_matchs\n",
       "0   England Premier League  2008/2009           380\n",
       "1   England Premier League  2009/2010           380\n",
       "2   England Premier League  2010/2011           380\n",
       "3   England Premier League  2011/2012           380\n",
       "4   England Premier League  2012/2013           380\n",
       "5   England Premier League  2013/2014           380\n",
       "6   England Premier League  2014/2015           380\n",
       "7   England Premier League  2015/2016           380\n",
       "8           France Ligue 1  2008/2009           380\n",
       "9           France Ligue 1  2009/2010           380\n",
       "10          France Ligue 1  2010/2011           380\n",
       "11          France Ligue 1  2011/2012           380\n",
       "12          France Ligue 1  2012/2013           380\n",
       "13          France Ligue 1  2013/2014           380\n",
       "14          France Ligue 1  2014/2015           380\n",
       "15          France Ligue 1  2015/2016           380\n",
       "16   Germany 1. Bundesliga  2008/2009           306\n",
       "17   Germany 1. Bundesliga  2009/2010           306\n",
       "18   Germany 1. Bundesliga  2010/2011           306\n",
       "19   Germany 1. Bundesliga  2011/2012           306\n",
       "20   Germany 1. Bundesliga  2012/2013           306\n",
       "21   Germany 1. Bundesliga  2013/2014           306\n",
       "22   Germany 1. Bundesliga  2014/2015           306\n",
       "23   Germany 1. Bundesliga  2015/2016           306\n",
       "24           Italy Serie A  2008/2009           380\n",
       "25           Italy Serie A  2009/2010           380\n",
       "26           Italy Serie A  2010/2011           380\n",
       "27           Italy Serie A  2011/2012           358\n",
       "28           Italy Serie A  2012/2013           380\n",
       "29           Italy Serie A  2013/2014           380\n",
       "30           Italy Serie A  2014/2015           379\n",
       "31           Italy Serie A  2015/2016           380\n",
       "32         Spain LIGA BBVA  2008/2009           380\n",
       "33         Spain LIGA BBVA  2009/2010           380\n",
       "34         Spain LIGA BBVA  2010/2011           380\n",
       "35         Spain LIGA BBVA  2011/2012           380\n",
       "36         Spain LIGA BBVA  2012/2013           380\n",
       "37         Spain LIGA BBVA  2013/2014           380\n",
       "38         Spain LIGA BBVA  2014/2015           380\n",
       "39         Spain LIGA BBVA  2015/2016           380"
      ]
     },
     "execution_count": 7,
     "metadata": {},
     "output_type": "execute_result"
    }
   ],
   "source": [
    "#获取数据集中各支联赛在每个赛季中的比赛总场次\n",
    "sql = '''SELECT l.name league, season, COUNT(*) total_matchs\n",
    "FROM Match m \n",
    "JOIN League l ON m.league_id = l.id \n",
    "WHERE league IN (\"England Premier League\",\"Germany 1. Bundesliga\",\"Spain LIGA BBVA\",\"France Ligue 1\",\"Italy Serie A\")\n",
    "GROUP BY league_id,season'''\n",
    "df_matchs = pd.read_sql_query(sql,con)\n",
    "df_matchs"
   ]
  },
  {
   "cell_type": "markdown",
   "metadata": {},
   "source": [
    "由此可见Italy Serie A联赛中在2011/2012和2014/2015两个赛季中比赛场次存在缺失。由于联赛积分排名对每场比赛结果都有依赖，因此接下来我们不再考虑这个联赛的数据。\n",
    "接下来我们获取其他4支联赛的比赛数据。"
   ]
  },
  {
   "cell_type": "code",
   "execution_count": 8,
   "metadata": {},
   "outputs": [
    {
     "data": {
      "text/plain": [
       "(624, 6)"
      ]
     },
     "execution_count": 8,
     "metadata": {},
     "output_type": "execute_result"
    }
   ],
   "source": [
    "# 获取2008-2016赛季各个球队的主场比赛数据\n",
    "sql = '''WITH t1 AS ( \n",
    "SELECT l.name AS league, season,stage,home_team_api_id,away_team_api_id,home_team_goal,away_team_goal, \n",
    "tm1.team_long_name AS home_team_name, \n",
    "tm2.team_long_name AS away_team_name,\n",
    "CASE \n",
    "WHEN m.home_team_goal > m.away_team_goal THEN 3 \n",
    "WHEN m.home_team_goal == m.away_team_goal THEN 1 \n",
    "WHEN m.home_team_goal < m.away_team_goal THEN 0 END AS home_team_points, \n",
    "CASE \n",
    "WHEN m.home_team_goal > m.away_team_goal THEN 0 \n",
    "WHEN m.home_team_goal == m.away_team_goal THEN 1 \n",
    "WHEN m.home_team_goal < m.away_team_goal THEN 3 END AS away_team_points \n",
    "FROM Match m \n",
    "JOIN League l \n",
    "ON m.league_id = l.id \n",
    "JOIN Team tm1 \n",
    "ON m.home_team_api_id = tm1.team_api_id \n",
    "JOIN Team tm2 \n",
    "ON m.away_team_api_id = tm2.team_api_id) \n",
    "SELECT season,league,home_team_name AS team_name,SUM(home_team_points) AS home_points, \n",
    "SUM(home_team_goal) AS home_goals_for, SUM(away_team_goal) AS home_goals_aga \n",
    "FROM t1 \n",
    "WHERE league IN (\"England Premier League\",\"Germany 1. Bundesliga\",\"Spain LIGA BBVA\",\"France Ligue 1\") \n",
    "GROUP BY 1,2,3 \n",
    "ORDER BY 1 DESC,2, 3 DESC'''\n",
    "df_home_points = pd.read_sql_query(sql,con)\n",
    "df_home_points.shape"
   ]
  },
  {
   "cell_type": "code",
   "execution_count": 9,
   "metadata": {},
   "outputs": [
    {
     "data": {
      "text/plain": [
       "(624, 6)"
      ]
     },
     "execution_count": 9,
     "metadata": {},
     "output_type": "execute_result"
    }
   ],
   "source": [
    "# 获取2008-2016赛季各个球队的客场比赛数据\n",
    "sql = '''WITH t1 AS (\n",
    "SELECT season,l.name AS league,stage,home_team_api_id,away_team_api_id,home_team_goal,away_team_goal, \n",
    "tm1.team_long_name AS home_team_name, \n",
    "tm2.team_long_name AS away_team_name, \n",
    "CASE \n",
    "WHEN m.home_team_goal > m.away_team_goal THEN 3 \n",
    "WHEN m.home_team_goal == m.away_team_goal THEN 1 \n",
    "WHEN m.home_team_goal < m.away_team_goal THEN 0 END AS home_team_points, \n",
    "CASE \n",
    "WHEN m.home_team_goal > m.away_team_goal THEN 0 \n",
    "WHEN m.home_team_goal == m.away_team_goal THEN 1 \n",
    "WHEN m.home_team_goal < m.away_team_goal THEN 3 END AS away_team_points \n",
    "FROM Match m \n",
    "JOIN League l \n",
    "ON m.league_id = l.id \n",
    "JOIN Team tm1 \n",
    "ON m.home_team_api_id = tm1.team_api_id \n",
    "JOIN Team tm2 \n",
    "ON m.away_team_api_id = tm2.team_api_id) \n",
    "SELECT season,league,away_team_name AS team_name,SUM(away_team_points) AS away_points, \n",
    "SUM(away_team_goal) AS away_goals_for, SUM(home_team_goal) AS away_goals_aga \n",
    "FROM t1 \n",
    "WHERE league IN (\"England Premier League\",\"Germany 1. Bundesliga\",\"Spain LIGA BBVA\",\"France Ligue 1\") \n",
    "GROUP BY 1,2,3 \n",
    "ORDER BY 1 DESC,2,3 DESC'''\n",
    "df_away_points = pd.read_sql_query(sql,con)\n",
    "df_away_points.shape"
   ]
  },
  {
   "cell_type": "markdown",
   "metadata": {},
   "source": [
    "以上查询获取了2008至2016这8个赛季中各支球队的比赛的主、客场积分，下面我们需要得到每只球队每个赛季的总比分，这需要将每只球队的主、客场积分相加。"
   ]
  },
  {
   "cell_type": "code",
   "execution_count": 10,
   "metadata": {},
   "outputs": [
    {
     "data": {
      "text/html": [
       "<div>\n",
       "<style scoped>\n",
       "    .dataframe tbody tr th:only-of-type {\n",
       "        vertical-align: middle;\n",
       "    }\n",
       "\n",
       "    .dataframe tbody tr th {\n",
       "        vertical-align: top;\n",
       "    }\n",
       "\n",
       "    .dataframe thead th {\n",
       "        text-align: right;\n",
       "    }\n",
       "</style>\n",
       "<table border=\"1\" class=\"dataframe\">\n",
       "  <thead>\n",
       "    <tr style=\"text-align: right;\">\n",
       "      <th></th>\n",
       "      <th>season</th>\n",
       "      <th>league</th>\n",
       "      <th>team_name</th>\n",
       "      <th>home_points</th>\n",
       "      <th>home_goals_for</th>\n",
       "      <th>home_goals_aga</th>\n",
       "      <th>away_points</th>\n",
       "      <th>away_goals_for</th>\n",
       "      <th>away_goals_aga</th>\n",
       "      <th>points</th>\n",
       "      <th>goals_diff</th>\n",
       "    </tr>\n",
       "  </thead>\n",
       "  <tbody>\n",
       "    <tr>\n",
       "      <th>0</th>\n",
       "      <td>2015/2016</td>\n",
       "      <td>Spain LIGA BBVA</td>\n",
       "      <td>FC Barcelona</td>\n",
       "      <td>49</td>\n",
       "      <td>67</td>\n",
       "      <td>14</td>\n",
       "      <td>42</td>\n",
       "      <td>45</td>\n",
       "      <td>15</td>\n",
       "      <td>91</td>\n",
       "      <td>83</td>\n",
       "    </tr>\n",
       "  </tbody>\n",
       "</table>\n",
       "</div>"
      ],
      "text/plain": [
       "      season           league     team_name  home_points  home_goals_for  \\\n",
       "0  2015/2016  Spain LIGA BBVA  FC Barcelona           49              67   \n",
       "\n",
       "   home_goals_aga  away_points  away_goals_for  away_goals_aga  points  \\\n",
       "0              14           42              45              15      91   \n",
       "\n",
       "   goals_diff  \n",
       "0          83  "
      ]
     },
     "execution_count": 10,
     "metadata": {},
     "output_type": "execute_result"
    }
   ],
   "source": [
    "#合并主、客场比赛结果数据\n",
    "df = pd.merge(df_home_points,df_away_points)\n",
    "#获取每只球队每个赛季的总积分\n",
    "df['points'] = df['home_points']+df['away_points']\n",
    "#获取每只队伍的净胜球数据\n",
    "df['goals_diff'] = df['home_goals_for']+df['away_goals_for']-df['home_goals_aga']-df['away_goals_aga']\n",
    "df.sort_values(by=['season','league','points','goals_diff'],ascending=False,inplace=True)\n",
    "df.reset_index(drop=True,inplace=True)\n",
    "df.head(1)"
   ]
  },
  {
   "cell_type": "markdown",
   "metadata": {},
   "source": [
    "现在已经获得了每个球队在这8个赛季中的比赛积分和进球数据，并且按照赛季、联赛名称、积分、净胜球数对球队进行了排序。下面我们通过积分排名来获取每个赛季的联赛冠军。事实上，每个联赛在联赛积分相同的情况下，确定冠军归属的方法有所不同，有的联赛是净胜球多的排名靠前，有的是相互比赛成绩好的排名靠前。在这里我们做简化处理，在积分相同时按照净胜球进行排名。\n",
    "\n",
    "下面的df_champions中存储了每个赛季、每个联赛的联赛冠军球队，以及冠军球队的比赛积分和进球数据。"
   ]
  },
  {
   "cell_type": "code",
   "execution_count": 11,
   "metadata": {},
   "outputs": [
    {
     "data": {
      "text/html": [
       "<div>\n",
       "<style scoped>\n",
       "    .dataframe tbody tr th:only-of-type {\n",
       "        vertical-align: middle;\n",
       "    }\n",
       "\n",
       "    .dataframe tbody tr th {\n",
       "        vertical-align: top;\n",
       "    }\n",
       "\n",
       "    .dataframe thead th {\n",
       "        text-align: right;\n",
       "    }\n",
       "</style>\n",
       "<table border=\"1\" class=\"dataframe\">\n",
       "  <thead>\n",
       "    <tr style=\"text-align: right;\">\n",
       "      <th></th>\n",
       "      <th>season</th>\n",
       "      <th>league</th>\n",
       "      <th>team_name</th>\n",
       "      <th>home_points</th>\n",
       "      <th>home_goals_for</th>\n",
       "      <th>home_goals_aga</th>\n",
       "      <th>away_points</th>\n",
       "      <th>away_goals_for</th>\n",
       "      <th>away_goals_aga</th>\n",
       "      <th>points</th>\n",
       "      <th>goals_diff</th>\n",
       "    </tr>\n",
       "  </thead>\n",
       "  <tbody>\n",
       "    <tr>\n",
       "      <th>0</th>\n",
       "      <td>2015/2016</td>\n",
       "      <td>Spain LIGA BBVA</td>\n",
       "      <td>FC Barcelona</td>\n",
       "      <td>49</td>\n",
       "      <td>67</td>\n",
       "      <td>14</td>\n",
       "      <td>42</td>\n",
       "      <td>45</td>\n",
       "      <td>15</td>\n",
       "      <td>91</td>\n",
       "      <td>83</td>\n",
       "    </tr>\n",
       "    <tr>\n",
       "      <th>1</th>\n",
       "      <td>2015/2016</td>\n",
       "      <td>Germany 1. Bundesliga</td>\n",
       "      <td>FC Bayern Munich</td>\n",
       "      <td>46</td>\n",
       "      <td>51</td>\n",
       "      <td>8</td>\n",
       "      <td>42</td>\n",
       "      <td>29</td>\n",
       "      <td>9</td>\n",
       "      <td>88</td>\n",
       "      <td>63</td>\n",
       "    </tr>\n",
       "    <tr>\n",
       "      <th>2</th>\n",
       "      <td>2015/2016</td>\n",
       "      <td>France Ligue 1</td>\n",
       "      <td>Paris Saint-Germain</td>\n",
       "      <td>48</td>\n",
       "      <td>59</td>\n",
       "      <td>12</td>\n",
       "      <td>48</td>\n",
       "      <td>43</td>\n",
       "      <td>7</td>\n",
       "      <td>96</td>\n",
       "      <td>83</td>\n",
       "    </tr>\n",
       "    <tr>\n",
       "      <th>3</th>\n",
       "      <td>2015/2016</td>\n",
       "      <td>England Premier League</td>\n",
       "      <td>Leicester City</td>\n",
       "      <td>42</td>\n",
       "      <td>35</td>\n",
       "      <td>18</td>\n",
       "      <td>39</td>\n",
       "      <td>33</td>\n",
       "      <td>18</td>\n",
       "      <td>81</td>\n",
       "      <td>32</td>\n",
       "    </tr>\n",
       "    <tr>\n",
       "      <th>4</th>\n",
       "      <td>2014/2015</td>\n",
       "      <td>Spain LIGA BBVA</td>\n",
       "      <td>FC Barcelona</td>\n",
       "      <td>49</td>\n",
       "      <td>64</td>\n",
       "      <td>11</td>\n",
       "      <td>45</td>\n",
       "      <td>46</td>\n",
       "      <td>10</td>\n",
       "      <td>94</td>\n",
       "      <td>89</td>\n",
       "    </tr>\n",
       "  </tbody>\n",
       "</table>\n",
       "</div>"
      ],
      "text/plain": [
       "      season                  league            team_name  home_points  \\\n",
       "0  2015/2016         Spain LIGA BBVA         FC Barcelona           49   \n",
       "1  2015/2016   Germany 1. Bundesliga     FC Bayern Munich           46   \n",
       "2  2015/2016          France Ligue 1  Paris Saint-Germain           48   \n",
       "3  2015/2016  England Premier League       Leicester City           42   \n",
       "4  2014/2015         Spain LIGA BBVA         FC Barcelona           49   \n",
       "\n",
       "   home_goals_for  home_goals_aga  away_points  away_goals_for  \\\n",
       "0              67              14           42              45   \n",
       "1              51               8           42              29   \n",
       "2              59              12           48              43   \n",
       "3              35              18           39              33   \n",
       "4              64              11           45              46   \n",
       "\n",
       "   away_goals_aga  points  goals_diff  \n",
       "0              15      91          83  \n",
       "1               9      88          63  \n",
       "2               7      96          83  \n",
       "3              18      81          32  \n",
       "4              10      94          89  "
      ]
     },
     "execution_count": 11,
     "metadata": {},
     "output_type": "execute_result"
    }
   ],
   "source": [
    "df_champions = df.groupby(by=['season','league']).head(1).reset_index(drop=True)\n",
    "df_champions.head()"
   ]
  },
  {
   "cell_type": "markdown",
   "metadata": {},
   "source": [
    "<a id='eda'></a>\n",
    "## 探索性数据分析\n",
    "\n",
    "### 研究问题 1 哪支球队在这段时间内的表现最好？"
   ]
  },
  {
   "cell_type": "markdown",
   "metadata": {},
   "source": [
    "由于比赛数据中只包含联赛内部球队的比赛数据，不包含不同联赛之间球队的比赛数据，因此，我们只能评判球队在各自联赛内的表现。这里采用的指标是球队获得联赛冠军的次数。"
   ]
  },
  {
   "cell_type": "code",
   "execution_count": 12,
   "metadata": {},
   "outputs": [
    {
     "data": {
      "text/plain": [
       "15"
      ]
     },
     "execution_count": 12,
     "metadata": {},
     "output_type": "execute_result"
    }
   ],
   "source": [
    "df_champions['team_name'].nunique()"
   ]
  },
  {
   "cell_type": "markdown",
   "metadata": {},
   "source": [
    "有15只队伍获得了这段时间中的8个赛季、4种联赛的32个冠军，现在需要查看获取冠军次数最多的是哪几只球队。"
   ]
  },
  {
   "cell_type": "code",
   "execution_count": 13,
   "metadata": {},
   "outputs": [
    {
     "data": {
      "text/html": [
       "<div>\n",
       "<style scoped>\n",
       "    .dataframe tbody tr th:only-of-type {\n",
       "        vertical-align: middle;\n",
       "    }\n",
       "\n",
       "    .dataframe tbody tr th {\n",
       "        vertical-align: top;\n",
       "    }\n",
       "\n",
       "    .dataframe thead th {\n",
       "        text-align: right;\n",
       "    }\n",
       "</style>\n",
       "<table border=\"1\" class=\"dataframe\">\n",
       "  <thead>\n",
       "    <tr style=\"text-align: right;\">\n",
       "      <th></th>\n",
       "      <th>league</th>\n",
       "      <th>team_name</th>\n",
       "      <th>cp_count</th>\n",
       "    </tr>\n",
       "  </thead>\n",
       "  <tbody>\n",
       "    <tr>\n",
       "      <th>0</th>\n",
       "      <td>Spain LIGA BBVA</td>\n",
       "      <td>FC Barcelona</td>\n",
       "      <td>6</td>\n",
       "    </tr>\n",
       "    <tr>\n",
       "      <th>1</th>\n",
       "      <td>Germany 1. Bundesliga</td>\n",
       "      <td>FC Bayern Munich</td>\n",
       "      <td>5</td>\n",
       "    </tr>\n",
       "    <tr>\n",
       "      <th>2</th>\n",
       "      <td>France Ligue 1</td>\n",
       "      <td>Paris Saint-Germain</td>\n",
       "      <td>4</td>\n",
       "    </tr>\n",
       "  </tbody>\n",
       "</table>\n",
       "</div>"
      ],
      "text/plain": [
       "                  league            team_name  cp_count\n",
       "0        Spain LIGA BBVA         FC Barcelona         6\n",
       "1  Germany 1. Bundesliga     FC Bayern Munich         5\n",
       "2         France Ligue 1  Paris Saint-Germain         4"
      ]
     },
     "execution_count": 13,
     "metadata": {},
     "output_type": "execute_result"
    }
   ],
   "source": [
    "df2 = df_champions.groupby(['league','team_name'])['season'].count().reset_index(name='cp_count')\n",
    "df2 = df2.sort_values(by='cp_count',ascending=False).reset_index(drop=True)\n",
    "df2.head(3)"
   ]
  },
  {
   "cell_type": "code",
   "execution_count": 14,
   "metadata": {},
   "outputs": [
    {
     "data": {
      "image/png": "[encoded data removed]",
      "text/plain": [
       "<Figure size 1080x288 with 1 Axes>"
      ]
     },
     "metadata": {},
     "output_type": "display_data"
    }
   ],
   "source": [
    "plt.rcParams['font.sans-serif']=['Microsoft YaHei'] #用来正常显示中文标签\n",
    "df2.plot(kind='bar',x=df2['team_name'],figsize=(15,4),legend=False)\n",
    "plt.title('2008-2016赛季欧洲足球俱乐部获得联赛冠军次数统计')\n",
    "plt.xlabel('俱乐部名称');\n",
    "plt.ylabel('获得联赛冠军次数');"
   ]
  },
  {
   "cell_type": "markdown",
   "metadata": {},
   "source": [
    "依据获得冠军的次数，在这期间西班牙甲级联赛的巴塞罗那队获得冠军的次数最多，达到6次，其次是德甲的拜仁慕尼黑队，获得了5次联赛冠军。"
   ]
  },
  {
   "cell_type": "markdown",
   "metadata": {},
   "source": [
    "### 研究问题 2 哪个联赛在这期间球队对联赛冠军的竞争最为激烈？"
   ]
  },
  {
   "cell_type": "markdown",
   "metadata": {},
   "source": [
    "判断联赛冠军争夺的激烈程度，需要从多个维度去分析数据。这里尝试从获得联赛冠军球队的数量、排名靠前球队的积分差距这两个方面分析各个联赛冠军争夺的激烈程度。\n",
    "\n",
    "> 首先获取每个联赛获得过联赛冠军的球队数目。一般而言，这个数目越多，联赛中参与冠军争夺的球队越多，竞争就越激烈。"
   ]
  },
  {
   "cell_type": "code",
   "execution_count": 15,
   "metadata": {},
   "outputs": [],
   "source": [
    "df3 = df_champions.groupby('league')['team_name'].nunique().reset_index(name='teams_get_titles')\n",
    "df3 = df3.sort_values(by='teams_get_titles',ascending=False).reset_index(drop=True)"
   ]
  },
  {
   "cell_type": "code",
   "execution_count": 16,
   "metadata": {},
   "outputs": [
    {
     "data": {
      "image/png": "[encoded data removed]",
      "text/plain": [
       "<Figure size 432x288 with 1 Axes>"
      ]
     },
     "metadata": {},
     "output_type": "display_data"
    }
   ],
   "source": [
    "df3.plot(kind='bar',x=df3['league'],legend=False);\n",
    "plt.title('每个联赛获取联赛冠军的球队数量');\n",
    "plt.xlabel('联赛名称');\n",
    "plt.ylabel('球队数量');"
   ]
  },
  {
   "cell_type": "markdown",
   "metadata": {},
   "source": [
    "在数据集中的这8个赛季，法国足球甲级联赛中得过联赛冠军的队伍最多，达到5支，其次是英格兰足球超级联赛，有4只球队获得过这期间的联赛冠军。"
   ]
  },
  {
   "cell_type": "markdown",
   "metadata": {},
   "source": [
    "> 接下来获取每个联赛中积分排名靠前球队的积分差距，积分差距越小，联赛冠军竞争就越激烈。这里我们取每个联赛排名前四球队的积分，计算其标准差，标准差越小，则前4支球队的积分越接近，竞争就越激烈。"
   ]
  },
  {
   "cell_type": "code",
   "execution_count": 17,
   "metadata": {},
   "outputs": [
    {
     "data": {
      "image/png": "[encoded data removed]",
      "text/plain": [
       "<Figure size 432x288 with 1 Axes>"
      ]
     },
     "metadata": {},
     "output_type": "display_data"
    }
   ],
   "source": [
    "df_top4 = df.groupby(['season','league']).head(4).reset_index(drop=True)\n",
    "df_pstd = df_top4.groupby(['season','league'])['points'].std().reset_index(name='P_Std')\n",
    "df_pstd.groupby('league').mean().sort_values('P_Std').plot(kind='bar',legend=False)\n",
    "plt.title('排名前4球队联赛积分标准差的均值');\n",
    "plt.xlabel('联赛名称');\n",
    "plt.ylabel('积分标准差均值');"
   ]
  },
  {
   "cell_type": "markdown",
   "metadata": {},
   "source": [
    "根据8个赛季中积分标准差的均值，英超联赛的前四球队积分最为接近，其次是法甲联赛。积分差距最大的是西甲联赛。"
   ]
  },
  {
   "cell_type": "code",
   "execution_count": 18,
   "metadata": {},
   "outputs": [
    {
     "data": {
      "image/png": "[encoded data removed]",
      "text/plain": [
       "<Figure size 1080x504 with 1 Axes>"
      ]
     },
     "metadata": {},
     "output_type": "display_data"
    }
   ],
   "source": [
    "df_pstd.sort_values(by=['league','season'],inplace=True)\n",
    "plt.figure(figsize=(15,7));\n",
    "for league in df_pstd['league'].unique():\n",
    "    plt.plot(df_pstd['season'].unique(),df_pstd.query('league==\"{}\"'.format(league))['P_Std'],linewidth=3.0,label=league);\n",
    "plt.title('联赛前四名球队积分标准差趋势图');\n",
    "plt.xlabel('赛季')\n",
    "plt.ylabel('积分标准差')\n",
    "plt.legend(loc='best', ncol=2, shadow=False, fancybox=False);"
   ]
  },
  {
   "cell_type": "markdown",
   "metadata": {},
   "source": [
    "上图中，2012/2013赛季之前的四个赛季中，西甲联赛的前四球队积分差距明显高于其它联赛，而在之后的4个赛季中有所下降。英超联赛积分差距波动最小，并且有4个赛季是积分差距最小的联赛。"
   ]
  },
  {
   "cell_type": "markdown",
   "metadata": {},
   "source": [
    "<a id='conclusions'></a>\n",
    "## 结论\n",
    "\n",
    "本报告首先对比赛数据进行处理，得到各支队伍的比赛积分信息，在这期间我们剔除了与比赛结果无关的博彩数据、阵容数据等部分内容。在验证联赛比赛数据完整性时发现意甲联赛在两个赛季中存在数据缺失，而联赛排名对每场比赛数据都有依赖，这里不宜做数据清理，因此在后面的问题中没有考虑意甲联赛。\n",
    "\n",
    "在每个赛季中，对其它4支联赛中球队根据积分和净胜球进行了排名。通过分析球多获得冠军的次数，得出西甲联赛的巴塞罗那球队是这期间表现最好的球队。\n",
    "\n",
    "在之后的问题中，通过分析联赛中排名靠前球队的积分差距大小来确定联赛中争冠球队的竞争程度，这里采用排名前4球队的积分的标准差做为联赛冠军竞争程度的指标，指标越小，反应联赛中争冠球队越势均力敌，冠军争夺越激烈。最终得出英超联赛的冠军争夺最为激烈。"
   ]
  },
  {
   "cell_type": "code",
   "execution_count": 22,
   "metadata": {},
   "outputs": [
    {
     "data": {
      "text/plain": [
       "0"
      ]
     },
     "execution_count": 22,
     "metadata": {},
     "output_type": "execute_result"
    }
   ],
   "source": [
    "from subprocess import call\n",
    "call(['python', '-m', 'nbconvert', 'Investigate_a_Dataset-zh.ipynb'])"
   ]
  },
  {
   "cell_type": "markdown",
   "metadata": {},
   "source": [
    "### 参考\n",
    "1. 分析联赛竞争激烈程度的方法多有争论，本报告中采用的分析方法受到了[Which is the most competitive soccer league in Europe?](https://www.pinnacle.com/en/betting-articles/Soccer/which-is-the-most-competitive-league-in-europe/UP62V3FWN49UCT5P)文章的启发。"
   ]
  }
 ],
 "metadata": {
  "kernelspec": {
   "display_name": "Python 3",
   "language": "python",
   "name": "python3"
  },
  "language_info": {
   "codemirror_mode": {
    "name": "ipython",
    "version": 3
   },
   "file_extension": ".py",
   "mimetype": "text/x-python",
   "name": "python",
   "nbconvert_exporter": "python",
   "pygments_lexer": "ipython3",
   "version": "3.6.4"
  }
 },
 "nbformat": 4,
 "nbformat_minor": 2
}
